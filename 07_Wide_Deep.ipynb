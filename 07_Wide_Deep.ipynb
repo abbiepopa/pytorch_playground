{
 "cells": [
  {
   "cell_type": "code",
   "execution_count": 1,
   "metadata": {},
   "outputs": [],
   "source": [
    "import torch\n",
    "import numpy as np\n",
    "from torch.autograd import Variable\n",
    "from collections import Counter\n",
    "import matplotlib.pyplot as plt"
   ]
  },
  {
   "cell_type": "code",
   "execution_count": 2,
   "metadata": {},
   "outputs": [],
   "source": [
    "xy = np.loadtxt('data/diabetes.csv', delimiter=',', dtype=np.float32)\n",
    "\n",
    "x_data = Variable(torch.from_numpy(xy[:, 0:-1]))\n",
    "y_data = Variable(torch.from_numpy(xy[:, [-1]]))"
   ]
  },
  {
   "cell_type": "code",
   "execution_count": 3,
   "metadata": {},
   "outputs": [
    {
     "data": {
      "text/plain": [
       "(759, 9)"
      ]
     },
     "execution_count": 3,
     "metadata": {},
     "output_type": "execute_result"
    }
   ],
   "source": [
    "xy.shape"
   ]
  },
  {
   "cell_type": "code",
   "execution_count": 4,
   "metadata": {},
   "outputs": [
    {
     "data": {
      "text/plain": [
       "array([[-0.294118  ,  0.487437  ,  0.180328  , -0.292929  ,  0.        ,\n",
       "         0.00149028, -0.53117   , -0.0333333 ,  0.        ],\n",
       "       [-0.882353  , -0.145729  ,  0.0819672 , -0.414141  ,  0.        ,\n",
       "        -0.207153  , -0.766866  , -0.666667  ,  1.        ],\n",
       "       [-0.0588235 ,  0.839196  ,  0.0491803 ,  0.        ,  0.        ,\n",
       "        -0.305514  , -0.492741  , -0.633333  ,  0.        ],\n",
       "       [-0.882353  , -0.105528  ,  0.0819672 , -0.535354  , -0.777778  ,\n",
       "        -0.162444  , -0.923997  ,  0.        ,  1.        ],\n",
       "       [ 0.        ,  0.376884  , -0.344262  , -0.292929  , -0.602837  ,\n",
       "         0.28465   ,  0.887276  , -0.6       ,  0.        ],\n",
       "       [-0.411765  ,  0.165829  ,  0.213115  ,  0.        ,  0.        ,\n",
       "        -0.23696   , -0.894962  , -0.7       ,  1.        ],\n",
       "       [-0.647059  , -0.21608   , -0.180328  , -0.353535  , -0.791962  ,\n",
       "        -0.0760059 , -0.854825  , -0.833333  ,  0.        ],\n",
       "       [ 0.176471  ,  0.155779  ,  0.        ,  0.        ,  0.        ,\n",
       "         0.052161  , -0.952178  , -0.733333  ,  1.        ],\n",
       "       [-0.764706  ,  0.979899  ,  0.147541  , -0.0909091 ,  0.283688  ,\n",
       "        -0.0909091 , -0.931682  ,  0.0666667 ,  0.        ]],\n",
       "      dtype=float32)"
      ]
     },
     "execution_count": 4,
     "metadata": {},
     "output_type": "execute_result"
    }
   ],
   "source": [
    "xy[:9, :]"
   ]
  },
  {
   "cell_type": "code",
   "execution_count": 5,
   "metadata": {},
   "outputs": [],
   "source": [
    "class Model(torch.nn.Module):\n",
    "    def __init__(self):\n",
    "        super(Model, self).__init__()\n",
    "        self.l1 = torch.nn.Linear(8,6)\n",
    "        self.l2 = torch.nn.Linear(6,4)\n",
    "        self.l3 = torch.nn.Linear(4,1)\n",
    "\n",
    "        self.sigmoid = torch.nn.Sigmoid()\n",
    "    \n",
    "    def forward(self,x):\n",
    "        out1 = self.sigmoid(self.l1(x))\n",
    "        out2 = self.sigmoid(self.l2(out1))\n",
    "        y_pred = self.sigmoid(self.l3(out2))\n",
    "        \n",
    "        return y_pred"
   ]
  },
  {
   "cell_type": "code",
   "execution_count": 6,
   "metadata": {},
   "outputs": [],
   "source": [
    "model = Model()\n",
    "\n",
    "criterion = torch.nn.BCELoss(reduction='elementwise_mean')\n",
    "optimizer = torch.optim.SGD(model.parameters(), lr=0.1)"
   ]
  },
  {
   "cell_type": "code",
   "execution_count": 7,
   "metadata": {},
   "outputs": [
    {
     "name": "stdout",
     "output_type": "stream",
     "text": [
      "0 tensor(0.6823)\n",
      "1 tensor(0.6787)\n",
      "2 tensor(0.6754)\n",
      "3 tensor(0.6725)\n",
      "4 tensor(0.6699)\n",
      "5 tensor(0.6675)\n",
      "6 tensor(0.6653)\n",
      "7 tensor(0.6634)\n",
      "8 tensor(0.6616)\n",
      "9 tensor(0.6600)\n",
      "10 tensor(0.6586)\n",
      "11 tensor(0.6573)\n",
      "12 tensor(0.6561)\n",
      "13 tensor(0.6551)\n",
      "14 tensor(0.6541)\n",
      "15 tensor(0.6532)\n",
      "16 tensor(0.6524)\n",
      "17 tensor(0.6517)\n",
      "18 tensor(0.6511)\n",
      "19 tensor(0.6505)\n",
      "20 tensor(0.6499)\n",
      "21 tensor(0.6494)\n",
      "22 tensor(0.6490)\n",
      "23 tensor(0.6486)\n",
      "24 tensor(0.6482)\n",
      "25 tensor(0.6479)\n",
      "26 tensor(0.6476)\n",
      "27 tensor(0.6473)\n",
      "28 tensor(0.6471)\n",
      "29 tensor(0.6469)\n",
      "30 tensor(0.6467)\n",
      "31 tensor(0.6465)\n",
      "32 tensor(0.6463)\n",
      "33 tensor(0.6462)\n",
      "34 tensor(0.6460)\n",
      "35 tensor(0.6459)\n",
      "36 tensor(0.6458)\n",
      "37 tensor(0.6457)\n",
      "38 tensor(0.6456)\n",
      "39 tensor(0.6455)\n",
      "40 tensor(0.6454)\n",
      "41 tensor(0.6453)\n",
      "42 tensor(0.6453)\n",
      "43 tensor(0.6452)\n",
      "44 tensor(0.6451)\n",
      "45 tensor(0.6451)\n",
      "46 tensor(0.6450)\n",
      "47 tensor(0.6450)\n",
      "48 tensor(0.6450)\n",
      "49 tensor(0.6449)\n",
      "50 tensor(0.6449)\n",
      "51 tensor(0.6449)\n",
      "52 tensor(0.6448)\n",
      "53 tensor(0.6448)\n",
      "54 tensor(0.6448)\n",
      "55 tensor(0.6448)\n",
      "56 tensor(0.6448)\n",
      "57 tensor(0.6447)\n",
      "58 tensor(0.6447)\n",
      "59 tensor(0.6447)\n",
      "60 tensor(0.6447)\n",
      "61 tensor(0.6447)\n",
      "62 tensor(0.6447)\n",
      "63 tensor(0.6447)\n",
      "64 tensor(0.6447)\n",
      "65 tensor(0.6446)\n",
      "66 tensor(0.6446)\n",
      "67 tensor(0.6446)\n",
      "68 tensor(0.6446)\n",
      "69 tensor(0.6446)\n",
      "70 tensor(0.6446)\n",
      "71 tensor(0.6446)\n",
      "72 tensor(0.6446)\n",
      "73 tensor(0.6446)\n",
      "74 tensor(0.6446)\n",
      "75 tensor(0.6446)\n",
      "76 tensor(0.6446)\n",
      "77 tensor(0.6446)\n",
      "78 tensor(0.6446)\n",
      "79 tensor(0.6446)\n",
      "80 tensor(0.6446)\n",
      "81 tensor(0.6446)\n",
      "82 tensor(0.6446)\n",
      "83 tensor(0.6446)\n",
      "84 tensor(0.6446)\n",
      "85 tensor(0.6446)\n",
      "86 tensor(0.6446)\n",
      "87 tensor(0.6445)\n",
      "88 tensor(0.6445)\n",
      "89 tensor(0.6445)\n",
      "90 tensor(0.6445)\n",
      "91 tensor(0.6445)\n",
      "92 tensor(0.6445)\n",
      "93 tensor(0.6445)\n",
      "94 tensor(0.6445)\n",
      "95 tensor(0.6445)\n",
      "96 tensor(0.6445)\n",
      "97 tensor(0.6445)\n",
      "98 tensor(0.6445)\n",
      "99 tensor(0.6445)\n"
     ]
    }
   ],
   "source": [
    "for epoch in range(100):\n",
    "    y_pred = model(x_data)\n",
    "    loss = criterion(y_pred, y_data)\n",
    "    print(epoch, loss.data)\n",
    "    \n",
    "    optimizer.zero_grad()\n",
    "    loss.backward()\n",
    "    optimizer.step()"
   ]
  },
  {
   "cell_type": "code",
   "execution_count": 8,
   "metadata": {},
   "outputs": [
    {
     "data": {
      "text/plain": [
       "tensor([[0.6518],\n",
       "        [0.6546],\n",
       "        [0.6521],\n",
       "        [0.6521],\n",
       "        [0.6493],\n",
       "        [0.6536],\n",
       "        [0.6528],\n",
       "        [0.6531],\n",
       "        [0.6528],\n",
       "        [0.6516]], grad_fn=<SigmoidBackward>)"
      ]
     },
     "execution_count": 8,
     "metadata": {},
     "output_type": "execute_result"
    }
   ],
   "source": [
    "model(x_data[:10, :])"
   ]
  },
  {
   "cell_type": "code",
   "execution_count": 9,
   "metadata": {},
   "outputs": [
    {
     "data": {
      "text/plain": [
       "tensor([[0.],\n",
       "        [1.],\n",
       "        [0.],\n",
       "        [1.],\n",
       "        [0.],\n",
       "        [1.],\n",
       "        [0.],\n",
       "        [1.],\n",
       "        [0.],\n",
       "        [0.]])"
      ]
     },
     "execution_count": 9,
     "metadata": {},
     "output_type": "execute_result"
    }
   ],
   "source": [
    "y_data[:10]"
   ]
  },
  {
   "cell_type": "code",
   "execution_count": 10,
   "metadata": {},
   "outputs": [
    {
     "data": {
      "text/plain": [
       "Counter({0.0: 263, 1.0: 496})"
      ]
     },
     "execution_count": 10,
     "metadata": {},
     "output_type": "execute_result"
    }
   ],
   "source": [
    "Counter(xy[:, -1])"
   ]
  },
  {
   "cell_type": "code",
   "execution_count": 11,
   "metadata": {},
   "outputs": [
    {
     "data": {
      "text/plain": [
       "(array([  1.,   4.,  14.,  45.,  97., 195., 184., 127.,  72.,  20.]),\n",
       " array([0.64719725, 0.64801378, 0.64883032, 0.64964685, 0.65046339,\n",
       "        0.65127993, 0.65209646, 0.652913  , 0.65372953, 0.65454607,\n",
       "        0.65536261]),\n",
       " <a list of 10 Patch objects>)"
      ]
     },
     "execution_count": 11,
     "metadata": {},
     "output_type": "execute_result"
    },
    {
     "data": {
      "image/png": "[encoded data removed]",
      "text/plain": [
       "<Figure size 432x288 with 1 Axes>"
      ]
     },
     "metadata": {},
     "output_type": "display_data"
    }
   ],
   "source": [
    "plt.hist(model(x_data).detach().numpy())"
   ]
  },
  {
   "cell_type": "markdown",
   "metadata": {},
   "source": [
    "Hmm, it seems like this model isn't very good!\n",
    "\n",
    "Maybe that is because it's not a very good network!\n",
    "\n",
    "Maybe that is because this data isn't well suited to a neural network!"
   ]
  }
 ],
 "metadata": {
  "kernelspec": {
   "display_name": "Python 3",
   "language": "python",
   "name": "python3"
  },
  "language_info": {
   "codemirror_mode": {
    "name": "ipython",
    "version": 3
   },
   "file_extension": ".py",
   "mimetype": "text/x-python",
   "name": "python",
   "nbconvert_exporter": "python",
   "pygments_lexer": "ipython3",
   "version": "3.6.5"
  }
 },
 "nbformat": 4,
 "nbformat_minor": 2
}
