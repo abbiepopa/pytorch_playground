{
 "cells": [
  {
   "cell_type": "code",
   "execution_count": 1,
   "metadata": {},
   "outputs": [],
   "source": [
    "import torch\n",
    "import numpy as np\n",
    "from torch.autograd import Variable\n",
    "from torch.utils.data import Dataset, DataLoader\n",
    "from torchvision import datasets, transforms\n",
    "import PIL \n",
    "import matplotlib.pyplot as plt\n",
    "%matplotlib inline"
   ]
  },
  {
   "cell_type": "code",
   "execution_count": 2,
   "metadata": {},
   "outputs": [],
   "source": [
    "class DiabetesDataset(Dataset):\n",
    "    def __init__(self):\n",
    "        xy = np.loadtxt('data/diabetes.csv', delimiter=',', dtype=np.float32)\n",
    "        self.len = xy.shape[0]\n",
    "        self.x_data = torch.from_numpy(xy[:, 0:-1])\n",
    "        self.y_data = torch.from_numpy(xy[:, [-1]])\n",
    "        \n",
    "    def __getitem__(self, index):\n",
    "        return self.x_data[index], self.y_data[index]\n",
    "    \n",
    "    def __len__(self):\n",
    "        return self.len"
   ]
  },
  {
   "cell_type": "code",
   "execution_count": 3,
   "metadata": {},
   "outputs": [],
   "source": [
    "dataset = DiabetesDataset()\n",
    "train_loader = DataLoader(dataset = dataset,\n",
    "                         batch_size = 32,\n",
    "                         shuffle = True,\n",
    "                         num_workers = 2)"
   ]
  },
  {
   "cell_type": "code",
   "execution_count": 4,
   "metadata": {},
   "outputs": [],
   "source": [
    "class Model(torch.nn.Module):\n",
    "    def __init__(self):\n",
    "        super(Model, self).__init__()\n",
    "        self.l1 = torch.nn.Linear(8,6)\n",
    "        self.l2 = torch.nn.Linear(6,4)\n",
    "        self.l3 = torch.nn.Linear(4,1)\n",
    "        \n",
    "        self.sigmoid = torch.nn.Sigmoid()\n",
    "        \n",
    "    def forward(self,x):\n",
    "        out1 = self.sigmoid(self.l1(x))\n",
    "        out2 = self.sigmoid(self.l2(out1))\n",
    "        y_pred = self.sigmoid(self.l3(out2))\n",
    "        return y_pred"
   ]
  },
  {
   "cell_type": "code",
   "execution_count": 5,
   "metadata": {},
   "outputs": [],
   "source": [
    "model = Model()\n",
    "criterion = torch.nn.BCELoss(reduction='elementwise_mean')\n",
    "optimizer = torch.optim.SGD(model.parameters(), lr = 0.1)"
   ]
  },
  {
   "cell_type": "code",
   "execution_count": 6,
   "metadata": {},
   "outputs": [
    {
     "name": "stdout",
     "output_type": "stream",
     "text": [
      "0 0 tensor(0.7310)\n",
      "0 1 tensor(0.7365)\n",
      "0 2 tensor(0.7748)\n",
      "0 3 tensor(0.7406)\n",
      "0 4 tensor(0.7172)\n",
      "0 5 tensor(0.7238)\n",
      "0 6 tensor(0.7057)\n",
      "0 7 tensor(0.7007)\n",
      "0 8 tensor(0.6924)\n",
      "0 9 tensor(0.6890)\n",
      "0 10 tensor(0.6915)\n",
      "0 11 tensor(0.6792)\n",
      "0 12 tensor(0.6775)\n",
      "0 13 tensor(0.6819)\n",
      "0 14 tensor(0.6865)\n",
      "0 15 tensor(0.6857)\n",
      "0 16 tensor(0.6512)\n",
      "0 17 tensor(0.6526)\n",
      "0 18 tensor(0.6696)\n",
      "0 19 tensor(0.6680)\n",
      "0 20 tensor(0.6509)\n",
      "0 21 tensor(0.6760)\n",
      "0 22 tensor(0.6377)\n",
      "0 23 tensor(0.6117)\n",
      "1 0 tensor(0.6869)\n",
      "1 1 tensor(0.6636)\n",
      "1 2 tensor(0.6280)\n",
      "1 3 tensor(0.6373)\n",
      "1 4 tensor(0.6618)\n",
      "1 5 tensor(0.6890)\n",
      "1 6 tensor(0.6094)\n",
      "1 7 tensor(0.6048)\n",
      "1 8 tensor(0.5562)\n",
      "1 9 tensor(0.6948)\n",
      "1 10 tensor(0.5965)\n",
      "1 11 tensor(0.7461)\n",
      "1 12 tensor(0.6770)\n",
      "1 13 tensor(0.6459)\n",
      "1 14 tensor(0.5659)\n",
      "1 15 tensor(0.6785)\n",
      "1 16 tensor(0.6274)\n",
      "1 17 tensor(0.6270)\n",
      "1 18 tensor(0.5909)\n",
      "1 19 tensor(0.6621)\n",
      "1 20 tensor(0.7541)\n",
      "1 21 tensor(0.6610)\n",
      "1 22 tensor(0.6614)\n",
      "1 23 tensor(0.6463)\n"
     ]
    }
   ],
   "source": [
    "for epoch in range(2):\n",
    "    for i, data in enumerate(train_loader, 0):\n",
    "        inputs, labels = data\n",
    "        \n",
    "        inputs, labels = Variable(inputs), Variable(labels)\n",
    "        \n",
    "        y_pred = model(inputs)\n",
    "        \n",
    "        loss = criterion(y_pred, labels)\n",
    "        print(epoch, i, loss.data)\n",
    "        \n",
    "        optimizer.zero_grad()\n",
    "        loss.backward()\n",
    "        optimizer.step()"
   ]
  },
  {
   "cell_type": "code",
   "execution_count": 7,
   "metadata": {},
   "outputs": [],
   "source": [
    "# This is also not very good, but maybe that is not the point?"
   ]
  },
  {
   "cell_type": "code",
   "execution_count": 8,
   "metadata": {},
   "outputs": [],
   "source": [
    "# MNIST Dataset\n",
    "train_dataset = datasets.MNIST(root = './data/',\n",
    "                              train = True, \n",
    "                              transform = transforms.ToTensor(),\n",
    "                              download = True)"
   ]
  },
  {
   "cell_type": "code",
   "execution_count": 9,
   "metadata": {},
   "outputs": [],
   "source": [
    "img = transforms.ToPILImage(train_dataset[0])\n",
    "img = PIL"
   ]
  },
  {
   "cell_type": "code",
   "execution_count": 10,
   "metadata": {},
   "outputs": [],
   "source": [
    "plt.show(img)"
   ]
  },
  {
   "cell_type": "code",
   "execution_count": 12,
   "metadata": {},
   "outputs": [],
   "source": [
    "# not sure why this isn't working, will have to investigate more later"
   ]
  },
  {
   "cell_type": "code",
   "execution_count": 13,
   "metadata": {},
   "outputs": [],
   "source": [
    "test_dataset = datasets.MNIST(root = './data/',\n",
    "                             train = False,\n",
    "                             transform = transforms.ToTensor(),\n",
    "                             download=True)"
   ]
  },
  {
   "cell_type": "code",
   "execution_count": 15,
   "metadata": {},
   "outputs": [],
   "source": [
    "train_loader = DataLoader(dataset = train_dataset,\n",
    "                         batch_size = 32,\n",
    "                         shuffle=True)\n",
    "\n",
    "test_loader = DataLoader(dataset = test_dataset,\n",
    "                        batch_size = 32,\n",
    "                        shuffle = False)"
   ]
  },
  {
   "cell_type": "code",
   "execution_count": 19,
   "metadata": {},
   "outputs": [],
   "source": [
    "for batch_idx, (data, target) in enumerate(train_loader):\n",
    "    data, target = Variable(data), Variable(target)\n",
    "    #model"
   ]
  },
  {
   "cell_type": "code",
   "execution_count": null,
   "metadata": {},
   "outputs": [],
   "source": []
  }
 ],
 "metadata": {
  "kernelspec": {
   "display_name": "Python 3",
   "language": "python",
   "name": "python3"
  },
  "language_info": {
   "codemirror_mode": {
    "name": "ipython",
    "version": 3
   },
   "file_extension": ".py",
   "mimetype": "text/x-python",
   "name": "python",
   "nbconvert_exporter": "python",
   "pygments_lexer": "ipython3",
   "version": "3.6.5"
  }
 },
 "nbformat": 4,
 "nbformat_minor": 2
}
